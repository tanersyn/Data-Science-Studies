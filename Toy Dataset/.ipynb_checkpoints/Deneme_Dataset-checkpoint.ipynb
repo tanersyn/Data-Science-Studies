{
 "cells": [
  {
   "cell_type": "code",
   "execution_count": 1,
   "metadata": {},
   "outputs": [],
   "source": [
    "import pandas as pd\n",
    "import matplotlib.pyplot as plt\n",
    "import seaborn as sns"
   ]
  },
  {
   "cell_type": "code",
   "execution_count": 2,
   "metadata": {},
   "outputs": [
    {
     "data": {
      "text/html": [
       "<div>\n",
       "<style scoped>\n",
       "    .dataframe tbody tr th:only-of-type {\n",
       "        vertical-align: middle;\n",
       "    }\n",
       "\n",
       "    .dataframe tbody tr th {\n",
       "        vertical-align: top;\n",
       "    }\n",
       "\n",
       "    .dataframe thead th {\n",
       "        text-align: right;\n",
       "    }\n",
       "</style>\n",
       "<table border=\"1\" class=\"dataframe\">\n",
       "  <thead>\n",
       "    <tr style=\"text-align: right;\">\n",
       "      <th></th>\n",
       "      <th>id</th>\n",
       "      <th>sehir</th>\n",
       "      <th>cinsiyet</th>\n",
       "      <th>yas</th>\n",
       "      <th>gelir</th>\n",
       "      <th>hastalık</th>\n",
       "    </tr>\n",
       "  </thead>\n",
       "  <tbody>\n",
       "    <tr>\n",
       "      <td>0</td>\n",
       "      <td>1</td>\n",
       "      <td>Dallas</td>\n",
       "      <td>Male</td>\n",
       "      <td>41</td>\n",
       "      <td>40367.0</td>\n",
       "      <td>No</td>\n",
       "    </tr>\n",
       "    <tr>\n",
       "      <td>1</td>\n",
       "      <td>2</td>\n",
       "      <td>Dallas</td>\n",
       "      <td>Male</td>\n",
       "      <td>54</td>\n",
       "      <td>45084.0</td>\n",
       "      <td>No</td>\n",
       "    </tr>\n",
       "    <tr>\n",
       "      <td>2</td>\n",
       "      <td>3</td>\n",
       "      <td>Dallas</td>\n",
       "      <td>Male</td>\n",
       "      <td>42</td>\n",
       "      <td>52483.0</td>\n",
       "      <td>No</td>\n",
       "    </tr>\n",
       "    <tr>\n",
       "      <td>3</td>\n",
       "      <td>4</td>\n",
       "      <td>Dallas</td>\n",
       "      <td>Male</td>\n",
       "      <td>40</td>\n",
       "      <td>40941.0</td>\n",
       "      <td>No</td>\n",
       "    </tr>\n",
       "    <tr>\n",
       "      <td>4</td>\n",
       "      <td>5</td>\n",
       "      <td>Dallas</td>\n",
       "      <td>Male</td>\n",
       "      <td>46</td>\n",
       "      <td>50289.0</td>\n",
       "      <td>No</td>\n",
       "    </tr>\n",
       "    <tr>\n",
       "      <td>...</td>\n",
       "      <td>...</td>\n",
       "      <td>...</td>\n",
       "      <td>...</td>\n",
       "      <td>...</td>\n",
       "      <td>...</td>\n",
       "      <td>...</td>\n",
       "    </tr>\n",
       "    <tr>\n",
       "      <td>149995</td>\n",
       "      <td>149996</td>\n",
       "      <td>Austin</td>\n",
       "      <td>Male</td>\n",
       "      <td>48</td>\n",
       "      <td>93669.0</td>\n",
       "      <td>No</td>\n",
       "    </tr>\n",
       "    <tr>\n",
       "      <td>149996</td>\n",
       "      <td>149997</td>\n",
       "      <td>Austin</td>\n",
       "      <td>Male</td>\n",
       "      <td>25</td>\n",
       "      <td>96748.0</td>\n",
       "      <td>No</td>\n",
       "    </tr>\n",
       "    <tr>\n",
       "      <td>149997</td>\n",
       "      <td>149998</td>\n",
       "      <td>Austin</td>\n",
       "      <td>Male</td>\n",
       "      <td>26</td>\n",
       "      <td>111885.0</td>\n",
       "      <td>No</td>\n",
       "    </tr>\n",
       "    <tr>\n",
       "      <td>149998</td>\n",
       "      <td>149999</td>\n",
       "      <td>Austin</td>\n",
       "      <td>Male</td>\n",
       "      <td>25</td>\n",
       "      <td>111878.0</td>\n",
       "      <td>No</td>\n",
       "    </tr>\n",
       "    <tr>\n",
       "      <td>149999</td>\n",
       "      <td>150000</td>\n",
       "      <td>Austin</td>\n",
       "      <td>Female</td>\n",
       "      <td>37</td>\n",
       "      <td>87251.0</td>\n",
       "      <td>No</td>\n",
       "    </tr>\n",
       "  </tbody>\n",
       "</table>\n",
       "<p>150000 rows × 6 columns</p>\n",
       "</div>"
      ],
      "text/plain": [
       "            id   sehir cinsiyet  yas     gelir hastalık\n",
       "0            1  Dallas     Male   41   40367.0       No\n",
       "1            2  Dallas     Male   54   45084.0       No\n",
       "2            3  Dallas     Male   42   52483.0       No\n",
       "3            4  Dallas     Male   40   40941.0       No\n",
       "4            5  Dallas     Male   46   50289.0       No\n",
       "...        ...     ...      ...  ...       ...      ...\n",
       "149995  149996  Austin     Male   48   93669.0       No\n",
       "149996  149997  Austin     Male   25   96748.0       No\n",
       "149997  149998  Austin     Male   26  111885.0       No\n",
       "149998  149999  Austin     Male   25  111878.0       No\n",
       "149999  150000  Austin   Female   37   87251.0       No\n",
       "\n",
       "[150000 rows x 6 columns]"
      ]
     },
     "execution_count": 2,
     "metadata": {},
     "output_type": "execute_result"
    }
   ],
   "source": [
    "başlık = ['id','sehir','cinsiyet','yas','gelir','hastalık']\n",
    "df = pd.read_csv('deneme_dataset.csv',header = 0,names = başlık)\n",
    "data_set = df.copy()\n",
    "data_set"
   ]
  },
  {
   "cell_type": "code",
   "execution_count": 3,
   "metadata": {},
   "outputs": [
    {
     "data": {
      "text/html": [
       "<div>\n",
       "<style scoped>\n",
       "    .dataframe tbody tr th:only-of-type {\n",
       "        vertical-align: middle;\n",
       "    }\n",
       "\n",
       "    .dataframe tbody tr th {\n",
       "        vertical-align: top;\n",
       "    }\n",
       "\n",
       "    .dataframe thead th {\n",
       "        text-align: right;\n",
       "    }\n",
       "</style>\n",
       "<table border=\"1\" class=\"dataframe\">\n",
       "  <thead>\n",
       "    <tr style=\"text-align: right;\">\n",
       "      <th></th>\n",
       "      <th>id</th>\n",
       "      <th>sehir</th>\n",
       "      <th>cinsiyet</th>\n",
       "      <th>yas</th>\n",
       "      <th>gelir</th>\n",
       "      <th>hastalık</th>\n",
       "    </tr>\n",
       "  </thead>\n",
       "  <tbody>\n",
       "    <tr>\n",
       "      <td>0</td>\n",
       "      <td>1</td>\n",
       "      <td>Dallas</td>\n",
       "      <td>Male</td>\n",
       "      <td>41</td>\n",
       "      <td>40367.0</td>\n",
       "      <td>No</td>\n",
       "    </tr>\n",
       "    <tr>\n",
       "      <td>1</td>\n",
       "      <td>2</td>\n",
       "      <td>Dallas</td>\n",
       "      <td>Male</td>\n",
       "      <td>54</td>\n",
       "      <td>45084.0</td>\n",
       "      <td>No</td>\n",
       "    </tr>\n",
       "    <tr>\n",
       "      <td>2</td>\n",
       "      <td>3</td>\n",
       "      <td>Dallas</td>\n",
       "      <td>Male</td>\n",
       "      <td>42</td>\n",
       "      <td>52483.0</td>\n",
       "      <td>No</td>\n",
       "    </tr>\n",
       "    <tr>\n",
       "      <td>3</td>\n",
       "      <td>4</td>\n",
       "      <td>Dallas</td>\n",
       "      <td>Male</td>\n",
       "      <td>40</td>\n",
       "      <td>40941.0</td>\n",
       "      <td>No</td>\n",
       "    </tr>\n",
       "    <tr>\n",
       "      <td>4</td>\n",
       "      <td>5</td>\n",
       "      <td>Dallas</td>\n",
       "      <td>Male</td>\n",
       "      <td>46</td>\n",
       "      <td>50289.0</td>\n",
       "      <td>No</td>\n",
       "    </tr>\n",
       "  </tbody>\n",
       "</table>\n",
       "</div>"
      ],
      "text/plain": [
       "   id   sehir cinsiyet  yas    gelir hastalık\n",
       "0   1  Dallas     Male   41  40367.0       No\n",
       "1   2  Dallas     Male   54  45084.0       No\n",
       "2   3  Dallas     Male   42  52483.0       No\n",
       "3   4  Dallas     Male   40  40941.0       No\n",
       "4   5  Dallas     Male   46  50289.0       No"
      ]
     },
     "execution_count": 3,
     "metadata": {},
     "output_type": "execute_result"
    }
   ],
   "source": [
    "data_set.head()"
   ]
  },
  {
   "cell_type": "code",
   "execution_count": 4,
   "metadata": {},
   "outputs": [
    {
     "data": {
      "text/plain": [
       "id            int64\n",
       "sehir        object\n",
       "cinsiyet     object\n",
       "yas           int64\n",
       "gelir       float64\n",
       "hastalık     object\n",
       "dtype: object"
      ]
     },
     "execution_count": 4,
     "metadata": {},
     "output_type": "execute_result"
    }
   ],
   "source": [
    "data_set.dtypes"
   ]
  },
  {
   "cell_type": "code",
   "execution_count": 5,
   "metadata": {},
   "outputs": [],
   "source": [
    "data_set.gelir = data_set.gelir.astype(int)"
   ]
  },
  {
   "cell_type": "code",
   "execution_count": 6,
   "metadata": {},
   "outputs": [
    {
     "data": {
      "text/plain": [
       "id           int64\n",
       "sehir       object\n",
       "cinsiyet    object\n",
       "yas          int64\n",
       "gelir        int32\n",
       "hastalık    object\n",
       "dtype: object"
      ]
     },
     "execution_count": 6,
     "metadata": {},
     "output_type": "execute_result"
    }
   ],
   "source": [
    "data_set.dtypes"
   ]
  },
  {
   "cell_type": "code",
   "execution_count": 7,
   "metadata": {},
   "outputs": [],
   "source": [
    "id       = data_set.id\n",
    "sehir    = data_set.sehir\n",
    "cinsiyet = data_set.cinsiyet\n",
    "yas      = data_set.yas\n",
    "gelir    = data_set.gelir\n",
    "hastalık = data_set.hastalık"
   ]
  },
  {
   "cell_type": "code",
   "execution_count": 8,
   "metadata": {},
   "outputs": [
    {
     "data": {
      "text/plain": [
       "Male      83800\n",
       "Female    66200\n",
       "Name: cinsiyet, dtype: int64"
      ]
     },
     "execution_count": 8,
     "metadata": {},
     "output_type": "execute_result"
    }
   ],
   "source": [
    "cinsiyet.value_counts()"
   ]
  },
  {
   "cell_type": "code",
   "execution_count": 9,
   "metadata": {},
   "outputs": [
    {
     "data": {
      "text/plain": [
       "No     137861\n",
       "Yes     12139\n",
       "Name: hastalık, dtype: int64"
      ]
     },
     "execution_count": 9,
     "metadata": {},
     "output_type": "execute_result"
    }
   ],
   "source": [
    "hastalık.value_counts()"
   ]
  },
  {
   "cell_type": "code",
   "execution_count": 10,
   "metadata": {},
   "outputs": [
    {
     "data": {
      "text/plain": [
       "New York City      50307\n",
       "Los Angeles        32173\n",
       "Dallas             19707\n",
       "Mountain View      14219\n",
       "Austin             12292\n",
       "Boston              8301\n",
       "Washington D.C.     8120\n",
       "San Diego           4881\n",
       "Name: sehir, dtype: int64"
      ]
     },
     "execution_count": 10,
     "metadata": {},
     "output_type": "execute_result"
    }
   ],
   "source": [
    "sehir.value_counts()"
   ]
  },
  {
   "cell_type": "code",
   "execution_count": 11,
   "metadata": {},
   "outputs": [
    {
     "name": "stdout",
     "output_type": "stream",
     "text": [
      "Yaş Ortalaması : 44.9502\n"
     ]
    }
   ],
   "source": [
    "ortalama_yas = yas.mean()\n",
    "print('Yaş Ortalaması :',ortalama_yas)"
   ]
  },
  {
   "cell_type": "code",
   "execution_count": 12,
   "metadata": {},
   "outputs": [
    {
     "name": "stdout",
     "output_type": "stream",
     "text": [
      "Aylık Ortalama Gelir : 7604.4\n"
     ]
    }
   ],
   "source": [
    "aylık_ortalama_gelir = round(gelir.mean()/12,2)\n",
    "print('Aylık Ortalama Gelir :',aylık_ortalama_gelir)"
   ]
  },
  {
   "cell_type": "code",
   "execution_count": 13,
   "metadata": {},
   "outputs": [
    {
     "name": "stdout",
     "output_type": "stream",
     "text": [
      "Senelik Ortalama Gelir : 91252.8\n"
     ]
    }
   ],
   "source": [
    "yıllık_ortalama_gelir = round(gelir.mean(),1)\n",
    "print('Senelik Ortalama Gelir :',yıllık_ortalama_gelir)"
   ]
  },
  {
   "cell_type": "code",
   "execution_count": 14,
   "metadata": {},
   "outputs": [
    {
     "data": {
      "text/html": [
       "<div>\n",
       "<style scoped>\n",
       "    .dataframe tbody tr th:only-of-type {\n",
       "        vertical-align: middle;\n",
       "    }\n",
       "\n",
       "    .dataframe tbody tr th {\n",
       "        vertical-align: top;\n",
       "    }\n",
       "\n",
       "    .dataframe thead th {\n",
       "        text-align: right;\n",
       "    }\n",
       "</style>\n",
       "<table border=\"1\" class=\"dataframe\">\n",
       "  <thead>\n",
       "    <tr style=\"text-align: right;\">\n",
       "      <th></th>\n",
       "      <th>count</th>\n",
       "      <th>mean</th>\n",
       "      <th>std</th>\n",
       "      <th>min</th>\n",
       "      <th>25%</th>\n",
       "      <th>50%</th>\n",
       "      <th>75%</th>\n",
       "      <th>max</th>\n",
       "    </tr>\n",
       "  </thead>\n",
       "  <tbody>\n",
       "    <tr>\n",
       "      <td>yas</td>\n",
       "      <td>150000.0</td>\n",
       "      <td>44.950200</td>\n",
       "      <td>11.572486</td>\n",
       "      <td>25.0</td>\n",
       "      <td>35.00</td>\n",
       "      <td>45.0</td>\n",
       "      <td>55.0</td>\n",
       "      <td>65.0</td>\n",
       "    </tr>\n",
       "    <tr>\n",
       "      <td>gelir</td>\n",
       "      <td>150000.0</td>\n",
       "      <td>91252.798273</td>\n",
       "      <td>24989.500948</td>\n",
       "      <td>-654.0</td>\n",
       "      <td>80867.75</td>\n",
       "      <td>93655.0</td>\n",
       "      <td>104519.0</td>\n",
       "      <td>177157.0</td>\n",
       "    </tr>\n",
       "  </tbody>\n",
       "</table>\n",
       "</div>"
      ],
      "text/plain": [
       "          count          mean           std    min       25%      50%  \\\n",
       "yas    150000.0     44.950200     11.572486   25.0     35.00     45.0   \n",
       "gelir  150000.0  91252.798273  24989.500948 -654.0  80867.75  93655.0   \n",
       "\n",
       "            75%       max  \n",
       "yas        55.0      65.0  \n",
       "gelir  104519.0  177157.0  "
      ]
     },
     "execution_count": 14,
     "metadata": {},
     "output_type": "execute_result"
    }
   ],
   "source": [
    "data_set.describe().T.drop('id')"
   ]
  },
  {
   "cell_type": "code",
   "execution_count": 34,
   "metadata": {},
   "outputs": [
    {
     "data": {
      "text/html": [
       "<div>\n",
       "<style scoped>\n",
       "    .dataframe tbody tr th:only-of-type {\n",
       "        vertical-align: middle;\n",
       "    }\n",
       "\n",
       "    .dataframe tbody tr th {\n",
       "        vertical-align: top;\n",
       "    }\n",
       "\n",
       "    .dataframe thead th {\n",
       "        text-align: right;\n",
       "    }\n",
       "</style>\n",
       "<table border=\"1\" class=\"dataframe\">\n",
       "  <thead>\n",
       "    <tr style=\"text-align: right;\">\n",
       "      <th></th>\n",
       "      <th>id</th>\n",
       "      <th>sehir</th>\n",
       "      <th>cinsiyet</th>\n",
       "      <th>yas</th>\n",
       "      <th>gelir</th>\n",
       "      <th>hastalık</th>\n",
       "      <th>aylık_gelir</th>\n",
       "    </tr>\n",
       "  </thead>\n",
       "  <tbody>\n",
       "    <tr>\n",
       "      <td>8418</td>\n",
       "      <td>8419</td>\n",
       "      <td>Dallas</td>\n",
       "      <td>Male</td>\n",
       "      <td>50</td>\n",
       "      <td>91479</td>\n",
       "      <td>No</td>\n",
       "      <td>7623.2</td>\n",
       "    </tr>\n",
       "    <tr>\n",
       "      <td>19707</td>\n",
       "      <td>19708</td>\n",
       "      <td>New York City</td>\n",
       "      <td>Male</td>\n",
       "      <td>49</td>\n",
       "      <td>112226</td>\n",
       "      <td>No</td>\n",
       "      <td>9352.2</td>\n",
       "    </tr>\n",
       "    <tr>\n",
       "      <td>19708</td>\n",
       "      <td>19709</td>\n",
       "      <td>New York City</td>\n",
       "      <td>Male</td>\n",
       "      <td>42</td>\n",
       "      <td>110534</td>\n",
       "      <td>No</td>\n",
       "      <td>9211.2</td>\n",
       "    </tr>\n",
       "    <tr>\n",
       "      <td>19709</td>\n",
       "      <td>19710</td>\n",
       "      <td>New York City</td>\n",
       "      <td>Female</td>\n",
       "      <td>61</td>\n",
       "      <td>100665</td>\n",
       "      <td>No</td>\n",
       "      <td>8388.8</td>\n",
       "    </tr>\n",
       "    <tr>\n",
       "      <td>19710</td>\n",
       "      <td>19711</td>\n",
       "      <td>New York City</td>\n",
       "      <td>Female</td>\n",
       "      <td>58</td>\n",
       "      <td>98147</td>\n",
       "      <td>Yes</td>\n",
       "      <td>8178.9</td>\n",
       "    </tr>\n",
       "    <tr>\n",
       "      <td>19711</td>\n",
       "      <td>19712</td>\n",
       "      <td>New York City</td>\n",
       "      <td>Female</td>\n",
       "      <td>43</td>\n",
       "      <td>93100</td>\n",
       "      <td>No</td>\n",
       "      <td>7758.3</td>\n",
       "    </tr>\n",
       "    <tr>\n",
       "      <td>19713</td>\n",
       "      <td>19714</td>\n",
       "      <td>New York City</td>\n",
       "      <td>Male</td>\n",
       "      <td>38</td>\n",
       "      <td>120288</td>\n",
       "      <td>No</td>\n",
       "      <td>10024.0</td>\n",
       "    </tr>\n",
       "    <tr>\n",
       "      <td>19714</td>\n",
       "      <td>19715</td>\n",
       "      <td>New York City</td>\n",
       "      <td>Female</td>\n",
       "      <td>58</td>\n",
       "      <td>98844</td>\n",
       "      <td>No</td>\n",
       "      <td>8237.0</td>\n",
       "    </tr>\n",
       "    <tr>\n",
       "      <td>19715</td>\n",
       "      <td>19716</td>\n",
       "      <td>New York City</td>\n",
       "      <td>Female</td>\n",
       "      <td>47</td>\n",
       "      <td>92981</td>\n",
       "      <td>No</td>\n",
       "      <td>7748.4</td>\n",
       "    </tr>\n",
       "    <tr>\n",
       "      <td>19716</td>\n",
       "      <td>19717</td>\n",
       "      <td>New York City</td>\n",
       "      <td>Female</td>\n",
       "      <td>39</td>\n",
       "      <td>105036</td>\n",
       "      <td>No</td>\n",
       "      <td>8753.0</td>\n",
       "    </tr>\n",
       "  </tbody>\n",
       "</table>\n",
       "</div>"
      ],
      "text/plain": [
       "          id          sehir cinsiyet  yas   gelir hastalık  aylık_gelir\n",
       "8418    8419         Dallas     Male   50   91479       No       7623.2\n",
       "19707  19708  New York City     Male   49  112226       No       9352.2\n",
       "19708  19709  New York City     Male   42  110534       No       9211.2\n",
       "19709  19710  New York City   Female   61  100665       No       8388.8\n",
       "19710  19711  New York City   Female   58   98147      Yes       8178.9\n",
       "19711  19712  New York City   Female   43   93100       No       7758.3\n",
       "19713  19714  New York City     Male   38  120288       No      10024.0\n",
       "19714  19715  New York City   Female   58   98844       No       8237.0\n",
       "19715  19716  New York City   Female   47   92981       No       7748.4\n",
       "19716  19717  New York City   Female   39  105036       No       8753.0"
      ]
     },
     "execution_count": 34,
     "metadata": {},
     "output_type": "execute_result"
    }
   ],
   "source": [
    "data_set[(gelir >= yıllık_ortalama_gelir)].head(10) "
   ]
  },
  {
   "cell_type": "code",
   "execution_count": 35,
   "metadata": {},
   "outputs": [
    {
     "data": {
      "text/html": [
       "<div>\n",
       "<style scoped>\n",
       "    .dataframe tbody tr th:only-of-type {\n",
       "        vertical-align: middle;\n",
       "    }\n",
       "\n",
       "    .dataframe tbody tr th {\n",
       "        vertical-align: top;\n",
       "    }\n",
       "\n",
       "    .dataframe thead th {\n",
       "        text-align: right;\n",
       "    }\n",
       "</style>\n",
       "<table border=\"1\" class=\"dataframe\">\n",
       "  <thead>\n",
       "    <tr style=\"text-align: right;\">\n",
       "      <th></th>\n",
       "      <th>id</th>\n",
       "      <th>sehir</th>\n",
       "      <th>cinsiyet</th>\n",
       "      <th>yas</th>\n",
       "      <th>gelir</th>\n",
       "      <th>hastalık</th>\n",
       "      <th>aylık_gelir</th>\n",
       "    </tr>\n",
       "  </thead>\n",
       "  <tbody>\n",
       "    <tr>\n",
       "      <td>19708</td>\n",
       "      <td>19709</td>\n",
       "      <td>New York City</td>\n",
       "      <td>Male</td>\n",
       "      <td>42</td>\n",
       "      <td>110534</td>\n",
       "      <td>No</td>\n",
       "      <td>9211.2</td>\n",
       "    </tr>\n",
       "    <tr>\n",
       "      <td>19711</td>\n",
       "      <td>19712</td>\n",
       "      <td>New York City</td>\n",
       "      <td>Female</td>\n",
       "      <td>43</td>\n",
       "      <td>93100</td>\n",
       "      <td>No</td>\n",
       "      <td>7758.3</td>\n",
       "    </tr>\n",
       "    <tr>\n",
       "      <td>19713</td>\n",
       "      <td>19714</td>\n",
       "      <td>New York City</td>\n",
       "      <td>Male</td>\n",
       "      <td>38</td>\n",
       "      <td>120288</td>\n",
       "      <td>No</td>\n",
       "      <td>10024.0</td>\n",
       "    </tr>\n",
       "    <tr>\n",
       "      <td>19716</td>\n",
       "      <td>19717</td>\n",
       "      <td>New York City</td>\n",
       "      <td>Female</td>\n",
       "      <td>39</td>\n",
       "      <td>105036</td>\n",
       "      <td>No</td>\n",
       "      <td>8753.0</td>\n",
       "    </tr>\n",
       "    <tr>\n",
       "      <td>19718</td>\n",
       "      <td>19719</td>\n",
       "      <td>New York City</td>\n",
       "      <td>Female</td>\n",
       "      <td>44</td>\n",
       "      <td>97823</td>\n",
       "      <td>No</td>\n",
       "      <td>8151.9</td>\n",
       "    </tr>\n",
       "    <tr>\n",
       "      <td>19724</td>\n",
       "      <td>19725</td>\n",
       "      <td>New York City</td>\n",
       "      <td>Male</td>\n",
       "      <td>33</td>\n",
       "      <td>101792</td>\n",
       "      <td>No</td>\n",
       "      <td>8482.7</td>\n",
       "    </tr>\n",
       "    <tr>\n",
       "      <td>19725</td>\n",
       "      <td>19726</td>\n",
       "      <td>New York City</td>\n",
       "      <td>Female</td>\n",
       "      <td>26</td>\n",
       "      <td>97946</td>\n",
       "      <td>No</td>\n",
       "      <td>8162.2</td>\n",
       "    </tr>\n",
       "    <tr>\n",
       "      <td>19728</td>\n",
       "      <td>19729</td>\n",
       "      <td>New York City</td>\n",
       "      <td>Male</td>\n",
       "      <td>33</td>\n",
       "      <td>94370</td>\n",
       "      <td>Yes</td>\n",
       "      <td>7864.2</td>\n",
       "    </tr>\n",
       "    <tr>\n",
       "      <td>19732</td>\n",
       "      <td>19733</td>\n",
       "      <td>New York City</td>\n",
       "      <td>Male</td>\n",
       "      <td>29</td>\n",
       "      <td>110286</td>\n",
       "      <td>Yes</td>\n",
       "      <td>9190.5</td>\n",
       "    </tr>\n",
       "    <tr>\n",
       "      <td>19734</td>\n",
       "      <td>19735</td>\n",
       "      <td>New York City</td>\n",
       "      <td>Female</td>\n",
       "      <td>37</td>\n",
       "      <td>112233</td>\n",
       "      <td>No</td>\n",
       "      <td>9352.8</td>\n",
       "    </tr>\n",
       "  </tbody>\n",
       "</table>\n",
       "</div>"
      ],
      "text/plain": [
       "          id          sehir cinsiyet  yas   gelir hastalık  aylık_gelir\n",
       "19708  19709  New York City     Male   42  110534       No       9211.2\n",
       "19711  19712  New York City   Female   43   93100       No       7758.3\n",
       "19713  19714  New York City     Male   38  120288       No      10024.0\n",
       "19716  19717  New York City   Female   39  105036       No       8753.0\n",
       "19718  19719  New York City   Female   44   97823       No       8151.9\n",
       "19724  19725  New York City     Male   33  101792       No       8482.7\n",
       "19725  19726  New York City   Female   26   97946       No       8162.2\n",
       "19728  19729  New York City     Male   33   94370      Yes       7864.2\n",
       "19732  19733  New York City     Male   29  110286      Yes       9190.5\n",
       "19734  19735  New York City   Female   37  112233       No       9352.8"
      ]
     },
     "execution_count": 35,
     "metadata": {},
     "output_type": "execute_result"
    }
   ],
   "source": [
    "data_set[(gelir >= yıllık_ortalama_gelir) & (yas <= ortalama_yas)].head(10)"
   ]
  },
  {
   "cell_type": "code",
   "execution_count": 17,
   "metadata": {},
   "outputs": [
    {
     "data": {
      "text/plain": [
       "sehir\n",
       "Austin              90277.5\n",
       "Boston              91554.6\n",
       "Dallas              45252.2\n",
       "Los Angeles         95264.2\n",
       "Mountain View      135078.4\n",
       "New York City       96857.1\n",
       "San Diego          100756.2\n",
       "Washington D.C.     70991.6\n",
       "Name: gelir, dtype: float64"
      ]
     },
     "execution_count": 17,
     "metadata": {},
     "output_type": "execute_result"
    }
   ],
   "source": [
    "round(data_set.groupby('sehir').gelir.mean(),1)"
   ]
  },
  {
   "cell_type": "code",
   "execution_count": 36,
   "metadata": {},
   "outputs": [
    {
     "data": {
      "text/html": [
       "<div>\n",
       "<style scoped>\n",
       "    .dataframe tbody tr th:only-of-type {\n",
       "        vertical-align: middle;\n",
       "    }\n",
       "\n",
       "    .dataframe tbody tr th {\n",
       "        vertical-align: top;\n",
       "    }\n",
       "\n",
       "    .dataframe thead th {\n",
       "        text-align: right;\n",
       "    }\n",
       "</style>\n",
       "<table border=\"1\" class=\"dataframe\">\n",
       "  <thead>\n",
       "    <tr style=\"text-align: right;\">\n",
       "      <th></th>\n",
       "      <th>cinsiyet</th>\n",
       "      <th>gelir</th>\n",
       "    </tr>\n",
       "  </thead>\n",
       "  <tbody>\n",
       "    <tr>\n",
       "      <td>0</td>\n",
       "      <td>Male</td>\n",
       "      <td>40367</td>\n",
       "    </tr>\n",
       "    <tr>\n",
       "      <td>1</td>\n",
       "      <td>Male</td>\n",
       "      <td>45084</td>\n",
       "    </tr>\n",
       "    <tr>\n",
       "      <td>2</td>\n",
       "      <td>Male</td>\n",
       "      <td>52483</td>\n",
       "    </tr>\n",
       "    <tr>\n",
       "      <td>3</td>\n",
       "      <td>Male</td>\n",
       "      <td>40941</td>\n",
       "    </tr>\n",
       "    <tr>\n",
       "      <td>4</td>\n",
       "      <td>Male</td>\n",
       "      <td>50289</td>\n",
       "    </tr>\n",
       "    <tr>\n",
       "      <td>8</td>\n",
       "      <td>Male</td>\n",
       "      <td>68667</td>\n",
       "    </tr>\n",
       "    <tr>\n",
       "      <td>11</td>\n",
       "      <td>Male</td>\n",
       "      <td>54777</td>\n",
       "    </tr>\n",
       "    <tr>\n",
       "      <td>12</td>\n",
       "      <td>Male</td>\n",
       "      <td>62749</td>\n",
       "    </tr>\n",
       "    <tr>\n",
       "      <td>13</td>\n",
       "      <td>Female</td>\n",
       "      <td>50894</td>\n",
       "    </tr>\n",
       "    <tr>\n",
       "      <td>14</td>\n",
       "      <td>Female</td>\n",
       "      <td>38429</td>\n",
       "    </tr>\n",
       "  </tbody>\n",
       "</table>\n",
       "</div>"
      ],
      "text/plain": [
       "   cinsiyet  gelir\n",
       "0      Male  40367\n",
       "1      Male  45084\n",
       "2      Male  52483\n",
       "3      Male  40941\n",
       "4      Male  50289\n",
       "8      Male  68667\n",
       "11     Male  54777\n",
       "12     Male  62749\n",
       "13   Female  50894\n",
       "14   Female  38429"
      ]
     },
     "execution_count": 36,
     "metadata": {},
     "output_type": "execute_result"
    }
   ],
   "source": [
    "data_set[(yas >= 40) & (hastalık == 'No')][['cinsiyet','gelir']].head(10)"
   ]
  },
  {
   "cell_type": "code",
   "execution_count": 19,
   "metadata": {},
   "outputs": [
    {
     "data": {
      "text/plain": [
       "Male      48906\n",
       "Female    38794\n",
       "Name: cinsiyet, dtype: int64"
      ]
     },
     "execution_count": 19,
     "metadata": {},
     "output_type": "execute_result"
    }
   ],
   "source": [
    "data_set[(yas >= 40) & (hastalık == 'No')].cinsiyet.value_counts()"
   ]
  },
  {
   "cell_type": "code",
   "execution_count": 20,
   "metadata": {},
   "outputs": [
    {
     "data": {
      "text/html": [
       "<div>\n",
       "<style scoped>\n",
       "    .dataframe tbody tr th:only-of-type {\n",
       "        vertical-align: middle;\n",
       "    }\n",
       "\n",
       "    .dataframe tbody tr th {\n",
       "        vertical-align: top;\n",
       "    }\n",
       "\n",
       "    .dataframe thead th {\n",
       "        text-align: right;\n",
       "    }\n",
       "</style>\n",
       "<table border=\"1\" class=\"dataframe\">\n",
       "  <thead>\n",
       "    <tr style=\"text-align: right;\">\n",
       "      <th></th>\n",
       "      <th>id</th>\n",
       "      <th>sehir</th>\n",
       "      <th>cinsiyet</th>\n",
       "      <th>yas</th>\n",
       "      <th>gelir</th>\n",
       "      <th>hastalık</th>\n",
       "    </tr>\n",
       "  </thead>\n",
       "  <tbody>\n",
       "    <tr>\n",
       "      <td>19707</td>\n",
       "      <td>19708</td>\n",
       "      <td>New York City</td>\n",
       "      <td>Male</td>\n",
       "      <td>49</td>\n",
       "      <td>112226</td>\n",
       "      <td>No</td>\n",
       "    </tr>\n",
       "    <tr>\n",
       "      <td>19708</td>\n",
       "      <td>19709</td>\n",
       "      <td>New York City</td>\n",
       "      <td>Male</td>\n",
       "      <td>42</td>\n",
       "      <td>110534</td>\n",
       "      <td>No</td>\n",
       "    </tr>\n",
       "    <tr>\n",
       "      <td>19709</td>\n",
       "      <td>19710</td>\n",
       "      <td>New York City</td>\n",
       "      <td>Female</td>\n",
       "      <td>61</td>\n",
       "      <td>100665</td>\n",
       "      <td>No</td>\n",
       "    </tr>\n",
       "    <tr>\n",
       "      <td>19710</td>\n",
       "      <td>19711</td>\n",
       "      <td>New York City</td>\n",
       "      <td>Female</td>\n",
       "      <td>58</td>\n",
       "      <td>98147</td>\n",
       "      <td>Yes</td>\n",
       "    </tr>\n",
       "    <tr>\n",
       "      <td>19711</td>\n",
       "      <td>19712</td>\n",
       "      <td>New York City</td>\n",
       "      <td>Female</td>\n",
       "      <td>43</td>\n",
       "      <td>93100</td>\n",
       "      <td>No</td>\n",
       "    </tr>\n",
       "    <tr>\n",
       "      <td>...</td>\n",
       "      <td>...</td>\n",
       "      <td>...</td>\n",
       "      <td>...</td>\n",
       "      <td>...</td>\n",
       "      <td>...</td>\n",
       "      <td>...</td>\n",
       "    </tr>\n",
       "    <tr>\n",
       "      <td>70007</td>\n",
       "      <td>70008</td>\n",
       "      <td>New York City</td>\n",
       "      <td>Male</td>\n",
       "      <td>44</td>\n",
       "      <td>106600</td>\n",
       "      <td>No</td>\n",
       "    </tr>\n",
       "    <tr>\n",
       "      <td>70008</td>\n",
       "      <td>70009</td>\n",
       "      <td>New York City</td>\n",
       "      <td>Male</td>\n",
       "      <td>40</td>\n",
       "      <td>108108</td>\n",
       "      <td>No</td>\n",
       "    </tr>\n",
       "    <tr>\n",
       "      <td>70010</td>\n",
       "      <td>70011</td>\n",
       "      <td>New York City</td>\n",
       "      <td>Female</td>\n",
       "      <td>26</td>\n",
       "      <td>112862</td>\n",
       "      <td>No</td>\n",
       "    </tr>\n",
       "    <tr>\n",
       "      <td>70011</td>\n",
       "      <td>70012</td>\n",
       "      <td>New York City</td>\n",
       "      <td>Male</td>\n",
       "      <td>49</td>\n",
       "      <td>112404</td>\n",
       "      <td>No</td>\n",
       "    </tr>\n",
       "    <tr>\n",
       "      <td>70012</td>\n",
       "      <td>70013</td>\n",
       "      <td>New York City</td>\n",
       "      <td>Female</td>\n",
       "      <td>33</td>\n",
       "      <td>97466</td>\n",
       "      <td>No</td>\n",
       "    </tr>\n",
       "  </tbody>\n",
       "</table>\n",
       "<p>34748 rows × 6 columns</p>\n",
       "</div>"
      ],
      "text/plain": [
       "          id          sehir cinsiyet  yas   gelir hastalık\n",
       "19707  19708  New York City     Male   49  112226       No\n",
       "19708  19709  New York City     Male   42  110534       No\n",
       "19709  19710  New York City   Female   61  100665       No\n",
       "19710  19711  New York City   Female   58   98147      Yes\n",
       "19711  19712  New York City   Female   43   93100       No\n",
       "...      ...            ...      ...  ...     ...      ...\n",
       "70007  70008  New York City     Male   44  106600       No\n",
       "70008  70009  New York City     Male   40  108108       No\n",
       "70010  70011  New York City   Female   26  112862       No\n",
       "70011  70012  New York City     Male   49  112404       No\n",
       "70012  70013  New York City   Female   33   97466       No\n",
       "\n",
       "[34748 rows x 6 columns]"
      ]
     },
     "execution_count": 20,
     "metadata": {},
     "output_type": "execute_result"
    }
   ],
   "source": [
    "data_set[(gelir >= yıllık_ortalama_gelir) & (sehir == 'New York City')]"
   ]
  },
  {
   "cell_type": "code",
   "execution_count": 21,
   "metadata": {},
   "outputs": [
    {
     "name": "stdout",
     "output_type": "stream",
     "text": [
      "cinsiyet\n",
      "Female    168440\n",
      "Male      177157\n",
      "Name: gelir, dtype: int32 \n",
      "cinsiyet\n",
      "Female     -654\n",
      "Male      12596\n",
      "Name: gelir, dtype: int32 \n",
      "cinsiyet\n",
      "Female    85660.9\n",
      "Male      95670.2\n",
      "Name: gelir, dtype: float64\n"
     ]
    }
   ],
   "source": [
    "print('{0} \\n{1} \\n{2}'.format(data_set.groupby('cinsiyet').gelir.max(),\n",
    "                               data_set.groupby('cinsiyet').gelir.min(),\n",
    "                         round(data_set.groupby('cinsiyet').gelir.mean(),1)))"
   ]
  },
  {
   "cell_type": "code",
   "execution_count": 22,
   "metadata": {},
   "outputs": [
    {
     "data": {
      "text/html": [
       "<div>\n",
       "<style scoped>\n",
       "    .dataframe tbody tr th:only-of-type {\n",
       "        vertical-align: middle;\n",
       "    }\n",
       "\n",
       "    .dataframe tbody tr th {\n",
       "        vertical-align: top;\n",
       "    }\n",
       "\n",
       "    .dataframe thead th {\n",
       "        text-align: right;\n",
       "    }\n",
       "</style>\n",
       "<table border=\"1\" class=\"dataframe\">\n",
       "  <thead>\n",
       "    <tr style=\"text-align: right;\">\n",
       "      <th></th>\n",
       "      <th>id</th>\n",
       "      <th>sehir</th>\n",
       "      <th>cinsiyet</th>\n",
       "      <th>yas</th>\n",
       "      <th>gelir</th>\n",
       "      <th>hastalık</th>\n",
       "    </tr>\n",
       "  </thead>\n",
       "  <tbody>\n",
       "    <tr>\n",
       "      <td>0</td>\n",
       "      <td>1</td>\n",
       "      <td>Dallas</td>\n",
       "      <td>Male</td>\n",
       "      <td>41</td>\n",
       "      <td>40367</td>\n",
       "      <td>No</td>\n",
       "    </tr>\n",
       "    <tr>\n",
       "      <td>1</td>\n",
       "      <td>2</td>\n",
       "      <td>Dallas</td>\n",
       "      <td>Male</td>\n",
       "      <td>54</td>\n",
       "      <td>45084</td>\n",
       "      <td>No</td>\n",
       "    </tr>\n",
       "    <tr>\n",
       "      <td>2</td>\n",
       "      <td>3</td>\n",
       "      <td>Dallas</td>\n",
       "      <td>Male</td>\n",
       "      <td>42</td>\n",
       "      <td>52483</td>\n",
       "      <td>No</td>\n",
       "    </tr>\n",
       "    <tr>\n",
       "      <td>3</td>\n",
       "      <td>4</td>\n",
       "      <td>Dallas</td>\n",
       "      <td>Male</td>\n",
       "      <td>40</td>\n",
       "      <td>40941</td>\n",
       "      <td>No</td>\n",
       "    </tr>\n",
       "    <tr>\n",
       "      <td>4</td>\n",
       "      <td>5</td>\n",
       "      <td>Dallas</td>\n",
       "      <td>Male</td>\n",
       "      <td>46</td>\n",
       "      <td>50289</td>\n",
       "      <td>No</td>\n",
       "    </tr>\n",
       "  </tbody>\n",
       "</table>\n",
       "</div>"
      ],
      "text/plain": [
       "   id   sehir cinsiyet  yas  gelir hastalık\n",
       "0   1  Dallas     Male   41  40367       No\n",
       "1   2  Dallas     Male   54  45084       No\n",
       "2   3  Dallas     Male   42  52483       No\n",
       "3   4  Dallas     Male   40  40941       No\n",
       "4   5  Dallas     Male   46  50289       No"
      ]
     },
     "execution_count": 22,
     "metadata": {},
     "output_type": "execute_result"
    }
   ],
   "source": [
    "data_set.head()"
   ]
  },
  {
   "cell_type": "code",
   "execution_count": 23,
   "metadata": {},
   "outputs": [],
   "source": [
    "data_set['aylık_gelir'] = round(gelir/12,1)"
   ]
  },
  {
   "cell_type": "code",
   "execution_count": 24,
   "metadata": {},
   "outputs": [
    {
     "data": {
      "text/html": [
       "<div>\n",
       "<style scoped>\n",
       "    .dataframe tbody tr th:only-of-type {\n",
       "        vertical-align: middle;\n",
       "    }\n",
       "\n",
       "    .dataframe tbody tr th {\n",
       "        vertical-align: top;\n",
       "    }\n",
       "\n",
       "    .dataframe thead th {\n",
       "        text-align: right;\n",
       "    }\n",
       "</style>\n",
       "<table border=\"1\" class=\"dataframe\">\n",
       "  <thead>\n",
       "    <tr style=\"text-align: right;\">\n",
       "      <th></th>\n",
       "      <th>id</th>\n",
       "      <th>sehir</th>\n",
       "      <th>cinsiyet</th>\n",
       "      <th>yas</th>\n",
       "      <th>gelir</th>\n",
       "      <th>hastalık</th>\n",
       "      <th>aylık_gelir</th>\n",
       "    </tr>\n",
       "  </thead>\n",
       "  <tbody>\n",
       "    <tr>\n",
       "      <td>0</td>\n",
       "      <td>1</td>\n",
       "      <td>Dallas</td>\n",
       "      <td>Male</td>\n",
       "      <td>41</td>\n",
       "      <td>40367</td>\n",
       "      <td>No</td>\n",
       "      <td>3363.9</td>\n",
       "    </tr>\n",
       "    <tr>\n",
       "      <td>1</td>\n",
       "      <td>2</td>\n",
       "      <td>Dallas</td>\n",
       "      <td>Male</td>\n",
       "      <td>54</td>\n",
       "      <td>45084</td>\n",
       "      <td>No</td>\n",
       "      <td>3757.0</td>\n",
       "    </tr>\n",
       "    <tr>\n",
       "      <td>2</td>\n",
       "      <td>3</td>\n",
       "      <td>Dallas</td>\n",
       "      <td>Male</td>\n",
       "      <td>42</td>\n",
       "      <td>52483</td>\n",
       "      <td>No</td>\n",
       "      <td>4373.6</td>\n",
       "    </tr>\n",
       "    <tr>\n",
       "      <td>3</td>\n",
       "      <td>4</td>\n",
       "      <td>Dallas</td>\n",
       "      <td>Male</td>\n",
       "      <td>40</td>\n",
       "      <td>40941</td>\n",
       "      <td>No</td>\n",
       "      <td>3411.8</td>\n",
       "    </tr>\n",
       "    <tr>\n",
       "      <td>4</td>\n",
       "      <td>5</td>\n",
       "      <td>Dallas</td>\n",
       "      <td>Male</td>\n",
       "      <td>46</td>\n",
       "      <td>50289</td>\n",
       "      <td>No</td>\n",
       "      <td>4190.8</td>\n",
       "    </tr>\n",
       "  </tbody>\n",
       "</table>\n",
       "</div>"
      ],
      "text/plain": [
       "   id   sehir cinsiyet  yas  gelir hastalık  aylık_gelir\n",
       "0   1  Dallas     Male   41  40367       No       3363.9\n",
       "1   2  Dallas     Male   54  45084       No       3757.0\n",
       "2   3  Dallas     Male   42  52483       No       4373.6\n",
       "3   4  Dallas     Male   40  40941       No       3411.8\n",
       "4   5  Dallas     Male   46  50289       No       4190.8"
      ]
     },
     "execution_count": 24,
     "metadata": {},
     "output_type": "execute_result"
    }
   ],
   "source": [
    "data_set.head()"
   ]
  },
  {
   "cell_type": "code",
   "execution_count": 25,
   "metadata": {},
   "outputs": [
    {
     "data": {
      "image/png": "[encoded data removed]",
      "text/plain": [
       "<Figure size 432x288 with 1 Axes>"
      ]
     },
     "metadata": {
      "needs_background": "light"
     },
     "output_type": "display_data"
    }
   ],
   "source": [
    "data_set['sehir'].value_counts().plot.bar().set_title(\"Şehirler\");"
   ]
  },
  {
   "cell_type": "code",
   "execution_count": 26,
   "metadata": {},
   "outputs": [
    {
     "data": {
      "image/png": "[encoded data removed]",
      "text/plain": [
       "<Figure size 432x288 with 1 Axes>"
      ]
     },
     "metadata": {
      "needs_background": "light"
     },
     "output_type": "display_data"
    }
   ],
   "source": [
    "data_set['cinsiyet'].value_counts().plot.bar().set_title(\"Cinsiyet\");"
   ]
  },
  {
   "cell_type": "code",
   "execution_count": 27,
   "metadata": {},
   "outputs": [
    {
     "data": {
      "image/png": "[encoded data removed]",
      "text/plain": [
       "<Figure size 432x288 with 1 Axes>"
      ]
     },
     "metadata": {
      "needs_background": "light"
     },
     "output_type": "display_data"
    }
   ],
   "source": [
    "data_set['hastalık'].value_counts().plot.bar().set_title(\"Hastalık\");"
   ]
  },
  {
   "cell_type": "code",
   "execution_count": 28,
   "metadata": {},
   "outputs": [
    {
     "data": {
      "image/png": "[encoded data removed]",
      "text/plain": [
       "<Figure size 360x360 with 1 Axes>"
      ]
     },
     "metadata": {
      "needs_background": "light"
     },
     "output_type": "display_data"
    }
   ],
   "source": [
    "sns.catplot(x = 'cinsiyet', y = 'gelir',data = data_set);"
   ]
  },
  {
   "cell_type": "code",
   "execution_count": 29,
   "metadata": {},
   "outputs": [
    {
     "data": {
      "image/png": "[encoded data removed]",
      "text/plain": [
       "<Figure size 432.625x360 with 1 Axes>"
      ]
     },
     "metadata": {
      "needs_background": "light"
     },
     "output_type": "display_data"
    }
   ],
   "source": [
    "sns.catplot(x = 'hastalık',y = 'gelir',hue = 'cinsiyet',data = data_set);"
   ]
  },
  {
   "cell_type": "code",
   "execution_count": 30,
   "metadata": {},
   "outputs": [
    {
     "data": {
      "image/png": "[encoded data removed]",
      "text/plain": [
       "<Figure size 432x288 with 1 Axes>"
      ]
     },
     "metadata": {
      "needs_background": "light"
     },
     "output_type": "display_data"
    }
   ],
   "source": [
    "sns.boxplot(x = data_set.yas);"
   ]
  },
  {
   "cell_type": "code",
   "execution_count": 31,
   "metadata": {},
   "outputs": [
    {
     "data": {
      "image/png": "[encoded data removed]",
      "text/plain": [
       "<Figure size 360x360 with 1 Axes>"
      ]
     },
     "metadata": {
      "needs_background": "light"
     },
     "output_type": "display_data"
    }
   ],
   "source": [
    "sns.catplot(x = 'cinsiyet',y = 'gelir',kind = 'violin',data = data_set);"
   ]
  },
  {
   "cell_type": "code",
   "execution_count": 32,
   "metadata": {},
   "outputs": [
    {
     "data": {
      "image/png": "[encoded data removed]",
      "text/plain": [
       "<Figure size 432.625x360 with 1 Axes>"
      ]
     },
     "metadata": {
      "needs_background": "light"
     },
     "output_type": "display_data"
    }
   ],
   "source": [
    "sns.catplot(x = 'hastalık', y = 'gelir',hue = 'cinsiyet',kind = 'violin',data = data_set);"
   ]
  },
  {
   "cell_type": "code",
   "execution_count": null,
   "metadata": {},
   "outputs": [],
   "source": []
  }
 ],
 "metadata": {
  "kernelspec": {
   "display_name": "Python 3",
   "language": "python",
   "name": "python3"
  },
  "language_info": {
   "codemirror_mode": {
    "name": "ipython",
    "version": 3
   },
   "file_extension": ".py",
   "mimetype": "text/x-python",
   "name": "python",
   "nbconvert_exporter": "python",
   "pygments_lexer": "ipython3",
   "version": "3.7.4"
  }
 },
 "nbformat": 4,
 "nbformat_minor": 4
}
